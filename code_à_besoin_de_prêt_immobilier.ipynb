{
  "nbformat": 4,
  "nbformat_minor": 0,
  "metadata": {
    "colab": {
      "provenance": [],
      "toc_visible": true,
      "authorship_tag": "ABX9TyOH/KLQJx/3ybOIa2no3Kzz",
      "include_colab_link": true
    },
    "kernelspec": {
      "name": "python3",
      "display_name": "Python 3"
    },
    "language_info": {
      "name": "python"
    }
  },
  "cells": [
    {
      "cell_type": "markdown",
      "metadata": {
        "id": "view-in-github",
        "colab_type": "text"
      },
      "source": [
        "<a href=\"https://colab.research.google.com/github/Sadath43/Projet-Innovation-groupe-13/blob/main/code_%C3%A0_besoin_de_pr%C3%AAt_immobilier.ipynb\" target=\"_parent\"><img src=\"https://colab.research.google.com/assets/colab-badge.svg\" alt=\"Open In Colab\"/></a>"
      ]
    },
    {
      "cell_type": "code",
      "source": [
        "pip install imblearn"
      ],
      "metadata": {
        "colab": {
          "base_uri": "https://localhost:8080/"
        },
        "id": "ZcaYdNjzGy9e",
        "outputId": "b61fbb17-2f40-4546-8a77-c26e8d6e4343"
      },
      "execution_count": 33,
      "outputs": [
        {
          "output_type": "stream",
          "name": "stdout",
          "text": [
            "Looking in indexes: https://pypi.org/simple, https://us-python.pkg.dev/colab-wheels/public/simple/\n",
            "Requirement already satisfied: imblearn in /usr/local/lib/python3.8/dist-packages (0.0)\n",
            "Requirement already satisfied: imbalanced-learn in /usr/local/lib/python3.8/dist-packages (from imblearn) (0.8.1)\n",
            "Requirement already satisfied: joblib>=0.11 in /usr/local/lib/python3.8/dist-packages (from imbalanced-learn->imblearn) (1.2.0)\n",
            "Requirement already satisfied: scikit-learn>=0.24 in /usr/local/lib/python3.8/dist-packages (from imbalanced-learn->imblearn) (1.0.2)\n",
            "Requirement already satisfied: scipy>=0.19.1 in /usr/local/lib/python3.8/dist-packages (from imbalanced-learn->imblearn) (1.7.3)\n",
            "Requirement already satisfied: numpy>=1.13.3 in /usr/local/lib/python3.8/dist-packages (from imbalanced-learn->imblearn) (1.21.6)\n",
            "Requirement already satisfied: threadpoolctl>=2.0.0 in /usr/local/lib/python3.8/dist-packages (from scikit-learn>=0.24->imbalanced-learn->imblearn) (3.1.0)\n"
          ]
        }
      ]
    },
    {
      "cell_type": "code",
      "source": [
        "import numpy as np\n",
        "import pandas as pd\n",
        "from sklearn.preprocessing import OneHotEncoder\n",
        "from sklearn.model_selection import train_test_split\n",
        "from sklearn.linear_model import LogisticRegression\n",
        "from sklearn.tree import DecisionTreeClassifier\n",
        "from sklearn.neighbors import KNeighborsClassifier\n",
        "from sklearn.ensemble import RandomForestClassifier\n",
        "from imblearn.over_sampling import SMOTE\n",
        "from sklearn.metrics import confusion_matrix\n",
        "from sklearn.metrics import accuracy_score\n",
        "from sklearn.metrics import recall_score\n",
        "from sklearn.metrics import precision_score\n",
        "import seaborn as sns\n",
        "from matplotlib import pyplot as plt"
      ],
      "metadata": {
        "id": "IjPtSQPrL7Xq"
      },
      "execution_count": 34,
      "outputs": []
    },
    {
      "cell_type": "code",
      "source": [
        "train=pd.read_csv('train.csv')"
      ],
      "metadata": {
        "id": "QYJ57oc0MKPx"
      },
      "execution_count": 35,
      "outputs": []
    },
    {
      "cell_type": "code",
      "source": [],
      "metadata": {
        "id": "Tx8fY-UgLj_9"
      },
      "execution_count": 35,
      "outputs": []
    },
    {
      "cell_type": "markdown",
      "source": [
        "séléction des features"
      ],
      "metadata": {
        "id": "sqZYajELMlBo"
      }
    },
    {
      "cell_type": "code",
      "source": [
        "train=train.drop([\"ID\",\"day\",\"month\",\"duration\"],axis=1)"
      ],
      "metadata": {
        "id": "QlD6MGToMqqX"
      },
      "execution_count": 36,
      "outputs": []
    },
    {
      "cell_type": "code",
      "source": [
        "# il n'y a pas de nan (valeur manquante)\n",
        "train.isna().sum() "
      ],
      "metadata": {
        "colab": {
          "base_uri": "https://localhost:8080/"
        },
        "id": "aqrR19K-MyOH",
        "outputId": "82cf7421-e5cf-4cbe-a0d1-df7f193371d2"
      },
      "execution_count": 37,
      "outputs": [
        {
          "output_type": "execute_result",
          "data": {
            "text/plain": [
              "age           0\n",
              "job           0\n",
              "marital       0\n",
              "education     0\n",
              "default       0\n",
              "balance       0\n",
              "housing       0\n",
              "loan          0\n",
              "contact       0\n",
              "campaign      0\n",
              "pdays         0\n",
              "previous      0\n",
              "poutcome      0\n",
              "subscribed    0\n",
              "dtype: int64"
            ]
          },
          "metadata": {},
          "execution_count": 37
        }
      ]
    },
    {
      "cell_type": "code",
      "source": [
        "# il faut seulement valeur numérique, donc il faut des transformations\n",
        "ohe = OneHotEncoder(sparse = False)\n",
        "\n",
        "train = pd.concat((train , pd.DataFrame(ohe.fit_transform(train[\"job\"].to_frame()),columns = \"job_\" + np.sort(train[\"job\"].unique()))),axis = 1)\n",
        "train.drop(columns = [\"job\"],inplace = True)\n",
        "\n",
        "train = pd.concat((train , pd.DataFrame(ohe.fit_transform(train[\"marital\"].to_frame()),columns = \"marital_\" + np.sort(train[\"marital\"].unique()))),axis = 1)\n",
        "train.drop(columns = [\"marital\"],inplace = True)"
      ],
      "metadata": {
        "id": "67nvSqv4M50z"
      },
      "execution_count": 38,
      "outputs": []
    },
    {
      "cell_type": "code",
      "source": [],
      "metadata": {
        "id": "TkKFlKapGev3"
      },
      "execution_count": 38,
      "outputs": []
    },
    {
      "cell_type": "code",
      "source": [],
      "metadata": {
        "id": "vuvQzCkJKokk"
      },
      "execution_count": 38,
      "outputs": []
    },
    {
      "cell_type": "code",
      "source": [
        "#education\n",
        "train.loc[(train.education == \"tertiary\"),\"education\"] =3\n",
        "train.loc[(train.education == \"secondary\") ,\"education\"] =2\n",
        "train.loc[(train.education == \"primary\"),\"education\"] =1\n",
        "train.loc[(train.education == \"unknown\"),\"education\"] =0\n",
        "#Default \n",
        "train.loc[(train.default == \"yes\"),\"default\"] = 1\n",
        "train.loc[(train.default == \"no\") ,\"default\"] = 0"
      ],
      "metadata": {
        "id": "thrrxk47M9OK"
      },
      "execution_count": 39,
      "outputs": []
    },
    {
      "cell_type": "code",
      "source": [
        "train.info()"
      ],
      "metadata": {
        "colab": {
          "base_uri": "https://localhost:8080/"
        },
        "id": "gYdItqlrIG0a",
        "outputId": "a1f16937-5c92-4c54-89aa-d3948bfad362"
      },
      "execution_count": 40,
      "outputs": [
        {
          "output_type": "stream",
          "name": "stdout",
          "text": [
            "<class 'pandas.core.frame.DataFrame'>\n",
            "RangeIndex: 31647 entries, 0 to 31646\n",
            "Data columns (total 27 columns):\n",
            " #   Column             Non-Null Count  Dtype  \n",
            "---  ------             --------------  -----  \n",
            " 0   age                31647 non-null  int64  \n",
            " 1   education          31647 non-null  object \n",
            " 2   default            31647 non-null  object \n",
            " 3   balance            31647 non-null  int64  \n",
            " 4   housing            31647 non-null  object \n",
            " 5   loan               31647 non-null  object \n",
            " 6   contact            31647 non-null  object \n",
            " 7   campaign           31647 non-null  int64  \n",
            " 8   pdays              31647 non-null  int64  \n",
            " 9   previous           31647 non-null  int64  \n",
            " 10  poutcome           31647 non-null  object \n",
            " 11  subscribed         31647 non-null  object \n",
            " 12  job_admin.         31647 non-null  float64\n",
            " 13  job_blue-collar    31647 non-null  float64\n",
            " 14  job_entrepreneur   31647 non-null  float64\n",
            " 15  job_housemaid      31647 non-null  float64\n",
            " 16  job_management     31647 non-null  float64\n",
            " 17  job_retired        31647 non-null  float64\n",
            " 18  job_self-employed  31647 non-null  float64\n",
            " 19  job_services       31647 non-null  float64\n",
            " 20  job_student        31647 non-null  float64\n",
            " 21  job_technician     31647 non-null  float64\n",
            " 22  job_unemployed     31647 non-null  float64\n",
            " 23  job_unknown        31647 non-null  float64\n",
            " 24  marital_divorced   31647 non-null  float64\n",
            " 25  marital_married    31647 non-null  float64\n",
            " 26  marital_single     31647 non-null  float64\n",
            "dtypes: float64(15), int64(5), object(7)\n",
            "memory usage: 6.5+ MB\n"
          ]
        }
      ]
    },
    {
      "cell_type": "code",
      "source": [
        "# housing\n",
        "train.loc[(train.housing == \"yes\"),\"housing\"] = 1 \n",
        "train.loc[(train.housing == \"no\") ,\"housing\"] = 0\n",
        "#Loan \n",
        "train.loc[(train.loan == \"yes\"),\"loan\"] = 1\n",
        "train.loc[(train.loan == \"no\") ,\"loan\"] = 0\n",
        "#contact\n",
        "train.loc[(train.contact == \"telephone\"),\"contact\"] = 2\n",
        "train.loc[(train.contact == \"cellular\") ,\"contact\"] = 1\n",
        "train.loc[(train.contact == \"unknown\") ,\"contact\"] = 0"
      ],
      "metadata": {
        "id": "X0opDLghM_k2"
      },
      "execution_count": 41,
      "outputs": []
    },
    {
      "cell_type": "code",
      "source": [
        "#poutcome\n",
        "train = pd.concat((train , pd.DataFrame(ohe.fit_transform(train[\"poutcome\"].to_frame()),columns = \"poutcome_\" + np.sort(train[\"poutcome\"].unique()))),axis = 1)\n",
        "train.drop(columns = [\"poutcome\"],inplace = True)\n",
        "#subscribed\n",
        "train.loc[(train.subscribed == \"yes\"),\"subscribed\"] = 1 \n",
        "train.loc[(train.subscribed == \"no\") ,\"subscribed\"] = 0"
      ],
      "metadata": {
        "id": "tdBUEcHnND3K"
      },
      "execution_count": 42,
      "outputs": []
    },
    {
      "cell_type": "code",
      "source": [
        "#vérification\n",
        "train.info()"
      ],
      "metadata": {
        "colab": {
          "base_uri": "https://localhost:8080/"
        },
        "id": "OHa343KENHsS",
        "outputId": "9b224cf7-fbc7-4f40-f919-f188e0db15fa"
      },
      "execution_count": 43,
      "outputs": [
        {
          "output_type": "stream",
          "name": "stdout",
          "text": [
            "<class 'pandas.core.frame.DataFrame'>\n",
            "RangeIndex: 31647 entries, 0 to 31646\n",
            "Data columns (total 30 columns):\n",
            " #   Column             Non-Null Count  Dtype  \n",
            "---  ------             --------------  -----  \n",
            " 0   age                31647 non-null  int64  \n",
            " 1   education          31647 non-null  object \n",
            " 2   default            31647 non-null  object \n",
            " 3   balance            31647 non-null  int64  \n",
            " 4   housing            31647 non-null  object \n",
            " 5   loan               31647 non-null  object \n",
            " 6   contact            31647 non-null  object \n",
            " 7   campaign           31647 non-null  int64  \n",
            " 8   pdays              31647 non-null  int64  \n",
            " 9   previous           31647 non-null  int64  \n",
            " 10  subscribed         31647 non-null  object \n",
            " 11  job_admin.         31647 non-null  float64\n",
            " 12  job_blue-collar    31647 non-null  float64\n",
            " 13  job_entrepreneur   31647 non-null  float64\n",
            " 14  job_housemaid      31647 non-null  float64\n",
            " 15  job_management     31647 non-null  float64\n",
            " 16  job_retired        31647 non-null  float64\n",
            " 17  job_self-employed  31647 non-null  float64\n",
            " 18  job_services       31647 non-null  float64\n",
            " 19  job_student        31647 non-null  float64\n",
            " 20  job_technician     31647 non-null  float64\n",
            " 21  job_unemployed     31647 non-null  float64\n",
            " 22  job_unknown        31647 non-null  float64\n",
            " 23  marital_divorced   31647 non-null  float64\n",
            " 24  marital_married    31647 non-null  float64\n",
            " 25  marital_single     31647 non-null  float64\n",
            " 26  poutcome_failure   31647 non-null  float64\n",
            " 27  poutcome_other     31647 non-null  float64\n",
            " 28  poutcome_success   31647 non-null  float64\n",
            " 29  poutcome_unknown   31647 non-null  float64\n",
            "dtypes: float64(19), int64(5), object(6)\n",
            "memory usage: 7.2+ MB\n"
          ]
        }
      ]
    },
    {
      "cell_type": "code",
      "source": [
        "train['education'].value_counts()"
      ],
      "metadata": {
        "colab": {
          "base_uri": "https://localhost:8080/"
        },
        "id": "_ESz2d19JYQu",
        "outputId": "174929cc-202d-485c-ae1d-e0af5a265958"
      },
      "execution_count": 44,
      "outputs": [
        {
          "output_type": "execute_result",
          "data": {
            "text/plain": [
              "2    16224\n",
              "3     9301\n",
              "1     4808\n",
              "0     1314\n",
              "Name: education, dtype: int64"
            ]
          },
          "metadata": {},
          "execution_count": 44
        }
      ]
    },
    {
      "cell_type": "code",
      "source": [],
      "metadata": {
        "id": "vxu1s_YXFkvX"
      },
      "execution_count": 44,
      "outputs": []
    },
    {
      "cell_type": "code",
      "source": [
        "# transformation\n",
        "train.education = train.education.astype(int)\n",
        "train.default = train.default.astype(int)\n",
        "train.housing = train.housing.astype(int)\n",
        "train.loan = train.loan.astype(int)\n",
        "train.contact = train.contact.astype(int)\n",
        "train.subscribed = train.subscribed.astype(int)"
      ],
      "metadata": {
        "id": "JydrEUxANLZx"
      },
      "execution_count": 45,
      "outputs": []
    },
    {
      "cell_type": "code",
      "source": [
        "train.info()"
      ],
      "metadata": {
        "colab": {
          "base_uri": "https://localhost:8080/"
        },
        "id": "-SbTvAukB7P4",
        "outputId": "869dd407-f965-47b1-b895-352cce303770"
      },
      "execution_count": 46,
      "outputs": [
        {
          "output_type": "stream",
          "name": "stdout",
          "text": [
            "<class 'pandas.core.frame.DataFrame'>\n",
            "RangeIndex: 31647 entries, 0 to 31646\n",
            "Data columns (total 30 columns):\n",
            " #   Column             Non-Null Count  Dtype  \n",
            "---  ------             --------------  -----  \n",
            " 0   age                31647 non-null  int64  \n",
            " 1   education          31647 non-null  int64  \n",
            " 2   default            31647 non-null  int64  \n",
            " 3   balance            31647 non-null  int64  \n",
            " 4   housing            31647 non-null  int64  \n",
            " 5   loan               31647 non-null  int64  \n",
            " 6   contact            31647 non-null  int64  \n",
            " 7   campaign           31647 non-null  int64  \n",
            " 8   pdays              31647 non-null  int64  \n",
            " 9   previous           31647 non-null  int64  \n",
            " 10  subscribed         31647 non-null  int64  \n",
            " 11  job_admin.         31647 non-null  float64\n",
            " 12  job_blue-collar    31647 non-null  float64\n",
            " 13  job_entrepreneur   31647 non-null  float64\n",
            " 14  job_housemaid      31647 non-null  float64\n",
            " 15  job_management     31647 non-null  float64\n",
            " 16  job_retired        31647 non-null  float64\n",
            " 17  job_self-employed  31647 non-null  float64\n",
            " 18  job_services       31647 non-null  float64\n",
            " 19  job_student        31647 non-null  float64\n",
            " 20  job_technician     31647 non-null  float64\n",
            " 21  job_unemployed     31647 non-null  float64\n",
            " 22  job_unknown        31647 non-null  float64\n",
            " 23  marital_divorced   31647 non-null  float64\n",
            " 24  marital_married    31647 non-null  float64\n",
            " 25  marital_single     31647 non-null  float64\n",
            " 26  poutcome_failure   31647 non-null  float64\n",
            " 27  poutcome_other     31647 non-null  float64\n",
            " 28  poutcome_success   31647 non-null  float64\n",
            " 29  poutcome_unknown   31647 non-null  float64\n",
            "dtypes: float64(19), int64(11)\n",
            "memory usage: 7.2 MB\n"
          ]
        }
      ]
    },
    {
      "cell_type": "code",
      "source": [
        "sm = SMOTE()\n",
        "y = train[\"housing\"]\n",
        "X = train.drop(columns=[\"housing\"])\n",
        "y.value_counts()"
      ],
      "metadata": {
        "colab": {
          "base_uri": "https://localhost:8080/"
        },
        "id": "L2lz9Q_8NuLW",
        "outputId": "9db70541-e6c6-4e9b-b07d-a32f79321a23"
      },
      "execution_count": 47,
      "outputs": [
        {
          "output_type": "execute_result",
          "data": {
            "text/plain": [
              "1    17584\n",
              "0    14063\n",
              "Name: housing, dtype: int64"
            ]
          },
          "metadata": {},
          "execution_count": 47
        }
      ]
    },
    {
      "cell_type": "code",
      "source": [
        "X, y = sm.fit_resample(X, y)\n",
        "X_train , X_test , y_train , y_test = train_test_split(X,y, test_size = 0.2,random_state = 10)\n",
        "y.value_counts()"
      ],
      "metadata": {
        "colab": {
          "base_uri": "https://localhost:8080/"
        },
        "id": "IGcC6tkoO6Wq",
        "outputId": "7b6065b0-5285-4729-99cb-a2c90c0a580f"
      },
      "execution_count": 48,
      "outputs": [
        {
          "output_type": "execute_result",
          "data": {
            "text/plain": [
              "0    17584\n",
              "1    17584\n",
              "Name: housing, dtype: int64"
            ]
          },
          "metadata": {},
          "execution_count": 48
        }
      ]
    },
    {
      "cell_type": "code",
      "source": [
        "X.info()"
      ],
      "metadata": {
        "colab": {
          "base_uri": "https://localhost:8080/"
        },
        "id": "5VX6In_YPg92",
        "outputId": "7c87fcb6-e166-4bc9-914b-151249e271fe"
      },
      "execution_count": 49,
      "outputs": [
        {
          "output_type": "stream",
          "name": "stdout",
          "text": [
            "<class 'pandas.core.frame.DataFrame'>\n",
            "RangeIndex: 35168 entries, 0 to 35167\n",
            "Data columns (total 29 columns):\n",
            " #   Column             Non-Null Count  Dtype  \n",
            "---  ------             --------------  -----  \n",
            " 0   age                35168 non-null  int64  \n",
            " 1   education          35168 non-null  int64  \n",
            " 2   default            35168 non-null  int64  \n",
            " 3   balance            35168 non-null  int64  \n",
            " 4   loan               35168 non-null  int64  \n",
            " 5   contact            35168 non-null  int64  \n",
            " 6   campaign           35168 non-null  int64  \n",
            " 7   pdays              35168 non-null  int64  \n",
            " 8   previous           35168 non-null  int64  \n",
            " 9   subscribed         35168 non-null  int64  \n",
            " 10  job_admin.         35168 non-null  float64\n",
            " 11  job_blue-collar    35168 non-null  float64\n",
            " 12  job_entrepreneur   35168 non-null  float64\n",
            " 13  job_housemaid      35168 non-null  float64\n",
            " 14  job_management     35168 non-null  float64\n",
            " 15  job_retired        35168 non-null  float64\n",
            " 16  job_self-employed  35168 non-null  float64\n",
            " 17  job_services       35168 non-null  float64\n",
            " 18  job_student        35168 non-null  float64\n",
            " 19  job_technician     35168 non-null  float64\n",
            " 20  job_unemployed     35168 non-null  float64\n",
            " 21  job_unknown        35168 non-null  float64\n",
            " 22  marital_divorced   35168 non-null  float64\n",
            " 23  marital_married    35168 non-null  float64\n",
            " 24  marital_single     35168 non-null  float64\n",
            " 25  poutcome_failure   35168 non-null  float64\n",
            " 26  poutcome_other     35168 non-null  float64\n",
            " 27  poutcome_success   35168 non-null  float64\n",
            " 28  poutcome_unknown   35168 non-null  float64\n",
            "dtypes: float64(19), int64(10)\n",
            "memory usage: 7.8 MB\n"
          ]
        }
      ]
    },
    {
      "cell_type": "code",
      "source": [
        "knn = KNeighborsClassifier()\n",
        "knn.fit(X_train, y_train)\n",
        "y_pred_knn = knn.predict(X_test)\n",
        "matrice_f_knn = confusion_matrix(y_test, y_pred_knn)\n",
        "performance_knn = accuracy_score(y_test, y_pred_knn)"
      ],
      "metadata": {
        "id": "N1cra-DFPn0s"
      },
      "execution_count": 50,
      "outputs": []
    },
    {
      "cell_type": "code",
      "source": [
        "lr = LogisticRegression()\n",
        "lr.fit(X_train,y_train)\n",
        "y_pred_lr = lr.predict(X_test)\n",
        "matrice_f_lr = confusion_matrix(y_test, y_pred_lr)\n",
        "performance_lr = accuracy_score(y_test, y_pred_lr)\n"
      ],
      "metadata": {
        "colab": {
          "base_uri": "https://localhost:8080/"
        },
        "id": "xRbNV4h3PvLZ",
        "outputId": "a1999593-d8d7-45e3-bb9f-a38d88378a32"
      },
      "execution_count": 51,
      "outputs": [
        {
          "output_type": "stream",
          "name": "stderr",
          "text": [
            "/usr/local/lib/python3.8/dist-packages/sklearn/linear_model/_logistic.py:814: ConvergenceWarning: lbfgs failed to converge (status=1):\n",
            "STOP: TOTAL NO. of ITERATIONS REACHED LIMIT.\n",
            "\n",
            "Increase the number of iterations (max_iter) or scale the data as shown in:\n",
            "    https://scikit-learn.org/stable/modules/preprocessing.html\n",
            "Please also refer to the documentation for alternative solver options:\n",
            "    https://scikit-learn.org/stable/modules/linear_model.html#logistic-regression\n",
            "  n_iter_i = _check_optimize_result(\n"
          ]
        }
      ]
    },
    {
      "cell_type": "code",
      "source": [
        "dtc = DecisionTreeClassifier(max_depth=3)\n",
        "dtc.fit(X_train, y_train)\n",
        "y_pred_dtc = dtc.predict(X_test)\n",
        "matrice_f_dtc = confusion_matrix(y_test, y_pred_dtc)\n",
        "performance_dtc = accuracy_score(y_test, y_pred_dtc)"
      ],
      "metadata": {
        "id": "GDh3qqnfPzAR"
      },
      "execution_count": 52,
      "outputs": []
    },
    {
      "cell_type": "code",
      "source": [
        "rf = RandomForestClassifier()\n",
        "rf.fit(X_train, y_train)\n",
        "y_pred_rf = rf.predict(X_test)\n",
        "matrice_f_rf = confusion_matrix(y_test,y_pred_rf)\n",
        "performance_rf = accuracy_score(y_test,y_pred_rf)"
      ],
      "metadata": {
        "id": "NFUugweXP4AX"
      },
      "execution_count": 53,
      "outputs": []
    },
    {
      "cell_type": "code",
      "source": [
        "#1-KNN : KNeighborsClassifier (K-Nearest Neighbor)\n",
        "matrice_f_knn,performance_knn,precision_score(y_test,y_pred_knn),recall_score(y_test,y_pred_knn)"
      ],
      "metadata": {
        "colab": {
          "base_uri": "https://localhost:8080/"
        },
        "id": "-Py2ho_cP8BZ",
        "outputId": "b0324c67-d3aa-4d04-ddd5-e568b23a4b53"
      },
      "execution_count": 54,
      "outputs": [
        {
          "output_type": "execute_result",
          "data": {
            "text/plain": [
              "(array([[2294, 1297],\n",
              "        [1393, 2050]]),\n",
              " 0.6175717941427353,\n",
              " 0.6124887959366597,\n",
              " 0.5954109787975602)"
            ]
          },
          "metadata": {},
          "execution_count": 54
        }
      ]
    },
    {
      "cell_type": "code",
      "source": [
        "#2-reggression logistique\n",
        "matrice_f_lr,performance_lr,precision_score(y_test,y_pred_lr),recall_score(y_test,y_pred_lr)"
      ],
      "metadata": {
        "colab": {
          "base_uri": "https://localhost:8080/"
        },
        "id": "wUARpVG2QE0Z",
        "outputId": "71f889b9-bd1a-4d50-db37-88f5cefbe8dd"
      },
      "execution_count": 55,
      "outputs": [
        {
          "output_type": "execute_result",
          "data": {
            "text/plain": [
              "(array([[2337, 1254],\n",
              "        [1139, 2304]]),\n",
              " 0.65979528006824,\n",
              " 0.6475548060708263,\n",
              " 0.6691838512924775)"
            ]
          },
          "metadata": {},
          "execution_count": 55
        }
      ]
    },
    {
      "cell_type": "code",
      "source": [
        "#3-arbre de décision\n",
        "matrice_f_dtc,performance_dtc,precision_score(y_test,y_pred_dtc),recall_score(y_test,y_pred_dtc)"
      ],
      "metadata": {
        "colab": {
          "base_uri": "https://localhost:8080/"
        },
        "id": "eU8k8TggQJJC",
        "outputId": "ad0524f3-b86c-468f-e804-eee9c3e08bb3"
      },
      "execution_count": 56,
      "outputs": [
        {
          "output_type": "execute_result",
          "data": {
            "text/plain": [
              "(array([[2659,  932],\n",
              "        [1450, 1993]]),\n",
              " 0.6613591128802957,\n",
              " 0.6813675213675213,\n",
              " 0.5788556491431891)"
            ]
          },
          "metadata": {},
          "execution_count": 56
        }
      ]
    },
    {
      "cell_type": "code",
      "source": [
        "#4-classificateur random forest\n",
        "matrice_f_rf,performance_rf,precision_score(y_test,y_pred_rf),recall_score(y_test,y_pred_rf)"
      ],
      "metadata": {
        "colab": {
          "base_uri": "https://localhost:8080/"
        },
        "id": "f0wskbLUQRRb",
        "outputId": "4e2a47ac-1a59-4d67-c27f-9d0ca20083b8"
      },
      "execution_count": 57,
      "outputs": [
        {
          "output_type": "execute_result",
          "data": {
            "text/plain": [
              "(array([[2490, 1101],\n",
              "        [1011, 2432]]),\n",
              " 0.6997441000853,\n",
              " 0.6883668270591565,\n",
              " 0.7063607319198374)"
            ]
          },
          "metadata": {},
          "execution_count": 57
        }
      ]
    },
    {
      "cell_type": "code",
      "source": [
        "def A_besoin_de_pret_immobilier(model,nom='il',age=56,education=0,default=0,balance=1933,housing=0,loan=0,contact=2,campaign=2,pdays=-1,previous=0,job_admin=1,job_bluecollar=0,job_entrepreneur=0,job_housemaid=0,job_management=0,job_retired=0,job_selfemployed=0,job_services=0,job_student=0,job_technician=0,job_unemployed=0,job_unknown=0,marital_divorced=1,marital_married=0,marital_single=0,poutcome_failure=0,poutcome_other=0,poutcome_success=0,poutcome_unknown=1):\n",
        "    x=np.array([age,education,default,balance,housing,loan,contact,campaign,pdays,previous,job_admin,job_bluecollar,job_entrepreneur,job_housemaid,job_management,job_retired,job_selfemployed,job_services,job_student,job_technician,job_unemployed,job_unknown,marital_divorced,marital_married,marital_single,poutcome_failure,poutcome_other,poutcome_success,poutcome_unknown]).reshape(1,29)\n",
        "    predicted=model.predict(x)\n",
        "    proba_oui=model.predict_proba(x)[0][1]*100\n",
        "    proba_non=model.predict_proba(x)[0][0]*100\n",
        "    if predicted[0]==1:\n",
        "         print(\"il y a\",proba_oui,\"% de chance que\",nom,\"ait besoin d'un prêt immobilier\")\n",
        "    else:print(\"il y a\",proba_non,\"% de chance que\",nom,\"n'ait pas besoin d'un prêt immobilier\")"
      ],
      "metadata": {
        "id": "auK0mwaMQSY0"
      },
      "execution_count": 58,
      "outputs": []
    },
    {
      "cell_type": "code",
      "source": [
        "X.info()"
      ],
      "metadata": {
        "colab": {
          "base_uri": "https://localhost:8080/"
        },
        "id": "bQELfzjLQZAx",
        "outputId": "04e588da-30cb-4041-c8e8-a291fbb4916c"
      },
      "execution_count": 59,
      "outputs": [
        {
          "output_type": "stream",
          "name": "stdout",
          "text": [
            "<class 'pandas.core.frame.DataFrame'>\n",
            "RangeIndex: 35168 entries, 0 to 35167\n",
            "Data columns (total 29 columns):\n",
            " #   Column             Non-Null Count  Dtype  \n",
            "---  ------             --------------  -----  \n",
            " 0   age                35168 non-null  int64  \n",
            " 1   education          35168 non-null  int64  \n",
            " 2   default            35168 non-null  int64  \n",
            " 3   balance            35168 non-null  int64  \n",
            " 4   loan               35168 non-null  int64  \n",
            " 5   contact            35168 non-null  int64  \n",
            " 6   campaign           35168 non-null  int64  \n",
            " 7   pdays              35168 non-null  int64  \n",
            " 8   previous           35168 non-null  int64  \n",
            " 9   subscribed         35168 non-null  int64  \n",
            " 10  job_admin.         35168 non-null  float64\n",
            " 11  job_blue-collar    35168 non-null  float64\n",
            " 12  job_entrepreneur   35168 non-null  float64\n",
            " 13  job_housemaid      35168 non-null  float64\n",
            " 14  job_management     35168 non-null  float64\n",
            " 15  job_retired        35168 non-null  float64\n",
            " 16  job_self-employed  35168 non-null  float64\n",
            " 17  job_services       35168 non-null  float64\n",
            " 18  job_student        35168 non-null  float64\n",
            " 19  job_technician     35168 non-null  float64\n",
            " 20  job_unemployed     35168 non-null  float64\n",
            " 21  job_unknown        35168 non-null  float64\n",
            " 22  marital_divorced   35168 non-null  float64\n",
            " 23  marital_married    35168 non-null  float64\n",
            " 24  marital_single     35168 non-null  float64\n",
            " 25  poutcome_failure   35168 non-null  float64\n",
            " 26  poutcome_other     35168 non-null  float64\n",
            " 27  poutcome_success   35168 non-null  float64\n",
            " 28  poutcome_unknown   35168 non-null  float64\n",
            "dtypes: float64(19), int64(10)\n",
            "memory usage: 7.8 MB\n"
          ]
        }
      ]
    },
    {
      "cell_type": "code",
      "source": [
        "#A_besoin_de_pret_immobilier(rf,'Joh',0 ,1,2, 3  ,4,5,6,7, 8,9,10,11,12,13,14,15,16,17,18,19,20,21,22,23,24,25,26,27,28)\n",
        "A_besoin_de_pret_immobilier(rf,'John',20,0,0,1933,0,0,2,2,-1,0, 1, 0, 0, 0, 0, 0, 0, 0, 0, 0, 0, 0, 0, 1, 0, 0, 0, 0, 1)"
      ],
      "metadata": {
        "colab": {
          "base_uri": "https://localhost:8080/"
        },
        "id": "xSout7s7QarI",
        "outputId": "6a000a5f-aeb6-4f5e-db26-7467745f7be1"
      },
      "execution_count": 60,
      "outputs": [
        {
          "output_type": "stream",
          "name": "stdout",
          "text": [
            "il y a 77.0 % de chance que John ait besoin d'un prêt immobilier\n"
          ]
        },
        {
          "output_type": "stream",
          "name": "stderr",
          "text": [
            "/usr/local/lib/python3.8/dist-packages/sklearn/base.py:450: UserWarning: X does not have valid feature names, but RandomForestClassifier was fitted with feature names\n",
            "  warnings.warn(\n",
            "/usr/local/lib/python3.8/dist-packages/sklearn/base.py:450: UserWarning: X does not have valid feature names, but RandomForestClassifier was fitted with feature names\n",
            "  warnings.warn(\n",
            "/usr/local/lib/python3.8/dist-packages/sklearn/base.py:450: UserWarning: X does not have valid feature names, but RandomForestClassifier was fitted with feature names\n",
            "  warnings.warn(\n"
          ]
        }
      ]
    }
  ]
}