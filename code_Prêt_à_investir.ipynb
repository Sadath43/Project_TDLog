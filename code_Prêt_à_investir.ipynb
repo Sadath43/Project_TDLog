{
  "nbformat": 4,
  "nbformat_minor": 0,
  "metadata": {
    "colab": {
      "provenance": [],
      "authorship_tag": "ABX9TyNJaiEsQPjJ3Dpekly5In0v",
      "include_colab_link": true
    },
    "kernelspec": {
      "name": "python3",
      "display_name": "Python 3"
    },
    "language_info": {
      "name": "python"
    }
  },
  "cells": [
    {
      "cell_type": "markdown",
      "metadata": {
        "id": "view-in-github",
        "colab_type": "text"
      },
      "source": [
        "<a href=\"https://colab.research.google.com/github/Sadath43/Projet-Innovation-groupe-13/blob/main/code_Pr%C3%AAt_%C3%A0_investir.ipynb\" target=\"_parent\"><img src=\"https://colab.research.google.com/assets/colab-badge.svg\" alt=\"Open In Colab\"/></a>"
      ]
    },
    {
      "cell_type": "code",
      "source": [
        "pip install imblearn"
      ],
      "metadata": {
        "colab": {
          "base_uri": "https://localhost:8080/"
        },
        "id": "ZcaYdNjzGy9e",
        "outputId": "660c4d84-c3e8-4182-c946-cf22e0f7ad34"
      },
      "execution_count": 2,
      "outputs": [
        {
          "output_type": "stream",
          "name": "stdout",
          "text": [
            "Looking in indexes: https://pypi.org/simple, https://us-python.pkg.dev/colab-wheels/public/simple/\n",
            "Requirement already satisfied: imblearn in /usr/local/lib/python3.8/dist-packages (0.0)\n",
            "Requirement already satisfied: imbalanced-learn in /usr/local/lib/python3.8/dist-packages (from imblearn) (0.8.1)\n",
            "Requirement already satisfied: numpy>=1.13.3 in /usr/local/lib/python3.8/dist-packages (from imbalanced-learn->imblearn) (1.21.6)\n",
            "Requirement already satisfied: scipy>=0.19.1 in /usr/local/lib/python3.8/dist-packages (from imbalanced-learn->imblearn) (1.7.3)\n",
            "Requirement already satisfied: scikit-learn>=0.24 in /usr/local/lib/python3.8/dist-packages (from imbalanced-learn->imblearn) (1.0.2)\n",
            "Requirement already satisfied: joblib>=0.11 in /usr/local/lib/python3.8/dist-packages (from imbalanced-learn->imblearn) (1.2.0)\n",
            "Requirement already satisfied: threadpoolctl>=2.0.0 in /usr/local/lib/python3.8/dist-packages (from scikit-learn>=0.24->imbalanced-learn->imblearn) (3.1.0)\n"
          ]
        }
      ]
    },
    {
      "cell_type": "code",
      "source": [
        "import numpy as np\n",
        "import pandas as pd\n",
        "from sklearn.preprocessing import OneHotEncoder\n",
        "from sklearn.model_selection import train_test_split\n",
        "from sklearn.linear_model import LogisticRegression\n",
        "from sklearn.tree import DecisionTreeClassifier\n",
        "from sklearn.neighbors import KNeighborsClassifier\n",
        "from sklearn.ensemble import RandomForestClassifier\n",
        "from imblearn.over_sampling import SMOTE\n",
        "from sklearn.metrics import confusion_matrix\n",
        "from sklearn.metrics import accuracy_score\n",
        "from sklearn.metrics import recall_score\n",
        "from sklearn.metrics import precision_score\n",
        "import seaborn as sns\n",
        "from matplotlib import pyplot as plt"
      ],
      "metadata": {
        "id": "IjPtSQPrL7Xq"
      },
      "execution_count": 3,
      "outputs": []
    },
    {
      "cell_type": "code",
      "source": [
        "train=pd.read_csv('train.csv')"
      ],
      "metadata": {
        "id": "QYJ57oc0MKPx"
      },
      "execution_count": 4,
      "outputs": []
    },
    {
      "cell_type": "markdown",
      "source": [
        "**séléction des features**"
      ],
      "metadata": {
        "id": "sqZYajELMlBo"
      }
    },
    {
      "cell_type": "code",
      "source": [
        "train=train.drop([\"ID\",\"day\",\"month\",\"duration\"],axis=1)"
      ],
      "metadata": {
        "id": "QlD6MGToMqqX"
      },
      "execution_count": 5,
      "outputs": []
    },
    {
      "cell_type": "markdown",
      "source": [
        "**traitement des Nan**"
      ],
      "metadata": {
        "id": "9BP4pM_0_PlG"
      }
    },
    {
      "cell_type": "code",
      "source": [
        "# il n'y a pas de nan (valeur manquante)\n",
        "train.isna().sum() "
      ],
      "metadata": {
        "colab": {
          "base_uri": "https://localhost:8080/"
        },
        "id": "aqrR19K-MyOH",
        "outputId": "12532230-66af-4db3-8740-74e82ff873fe"
      },
      "execution_count": 6,
      "outputs": [
        {
          "output_type": "execute_result",
          "data": {
            "text/plain": [
              "age           0\n",
              "job           0\n",
              "marital       0\n",
              "education     0\n",
              "default       0\n",
              "balance       0\n",
              "housing       0\n",
              "loan          0\n",
              "contact       0\n",
              "campaign      0\n",
              "pdays         0\n",
              "previous      0\n",
              "poutcome      0\n",
              "subscribed    0\n",
              "dtype: int64"
            ]
          },
          "metadata": {},
          "execution_count": 6
        }
      ]
    },
    {
      "cell_type": "markdown",
      "source": [
        "**Encodage**"
      ],
      "metadata": {
        "id": "uXRHngED_l43"
      }
    },
    {
      "cell_type": "code",
      "source": [
        "# il faut seulement valeur numérique, donc il faut des transformations\n",
        "ohe = OneHotEncoder(sparse = False)\n",
        "\n",
        "train = pd.concat((train , pd.DataFrame(ohe.fit_transform(train[\"job\"].to_frame()),columns = \"job_\" + np.sort(train[\"job\"].unique()))),axis = 1)\n",
        "train.drop(columns = [\"job\"],inplace = True)\n",
        "\n",
        "train = pd.concat((train , pd.DataFrame(ohe.fit_transform(train[\"marital\"].to_frame()),columns = \"marital_\" + np.sort(train[\"marital\"].unique()))),axis = 1)\n",
        "train.drop(columns = [\"marital\"],inplace = True)"
      ],
      "metadata": {
        "id": "67nvSqv4M50z"
      },
      "execution_count": 7,
      "outputs": []
    },
    {
      "cell_type": "code",
      "source": [
        "#education\n",
        "train.loc[(train.education == \"tertiary\"),\"education\"] =3\n",
        "train.loc[(train.education == \"secondary\") ,\"education\"] =2\n",
        "train.loc[(train.education == \"primary\"),\"education\"] =1\n",
        "train.loc[(train.education == \"unknown\"),\"education\"] =0\n",
        "#Default \n",
        "train.loc[(train.default == \"yes\"),\"default\"] = 1\n",
        "train.loc[(train.default == \"no\") ,\"default\"] = 0"
      ],
      "metadata": {
        "id": "thrrxk47M9OK"
      },
      "execution_count": 8,
      "outputs": []
    },
    {
      "cell_type": "code",
      "source": [
        "train.info()"
      ],
      "metadata": {
        "colab": {
          "base_uri": "https://localhost:8080/"
        },
        "id": "gYdItqlrIG0a",
        "outputId": "7321a896-38ca-440e-f5b6-5949f1e4b684"
      },
      "execution_count": 9,
      "outputs": [
        {
          "output_type": "stream",
          "name": "stdout",
          "text": [
            "<class 'pandas.core.frame.DataFrame'>\n",
            "RangeIndex: 31647 entries, 0 to 31646\n",
            "Data columns (total 27 columns):\n",
            " #   Column             Non-Null Count  Dtype  \n",
            "---  ------             --------------  -----  \n",
            " 0   age                31647 non-null  int64  \n",
            " 1   education          31647 non-null  object \n",
            " 2   default            31647 non-null  object \n",
            " 3   balance            31647 non-null  int64  \n",
            " 4   housing            31647 non-null  object \n",
            " 5   loan               31647 non-null  object \n",
            " 6   contact            31647 non-null  object \n",
            " 7   campaign           31647 non-null  int64  \n",
            " 8   pdays              31647 non-null  int64  \n",
            " 9   previous           31647 non-null  int64  \n",
            " 10  poutcome           31647 non-null  object \n",
            " 11  subscribed         31647 non-null  object \n",
            " 12  job_admin.         31647 non-null  float64\n",
            " 13  job_blue-collar    31647 non-null  float64\n",
            " 14  job_entrepreneur   31647 non-null  float64\n",
            " 15  job_housemaid      31647 non-null  float64\n",
            " 16  job_management     31647 non-null  float64\n",
            " 17  job_retired        31647 non-null  float64\n",
            " 18  job_self-employed  31647 non-null  float64\n",
            " 19  job_services       31647 non-null  float64\n",
            " 20  job_student        31647 non-null  float64\n",
            " 21  job_technician     31647 non-null  float64\n",
            " 22  job_unemployed     31647 non-null  float64\n",
            " 23  job_unknown        31647 non-null  float64\n",
            " 24  marital_divorced   31647 non-null  float64\n",
            " 25  marital_married    31647 non-null  float64\n",
            " 26  marital_single     31647 non-null  float64\n",
            "dtypes: float64(15), int64(5), object(7)\n",
            "memory usage: 6.5+ MB\n"
          ]
        }
      ]
    },
    {
      "cell_type": "code",
      "source": [
        "# housing\n",
        "train.loc[(train.housing == \"yes\"),\"housing\"] = 1 \n",
        "train.loc[(train.housing == \"no\") ,\"housing\"] = 0\n",
        "#Loan \n",
        "train.loc[(train.loan == \"yes\"),\"loan\"] = 1\n",
        "train.loc[(train.loan == \"no\") ,\"loan\"] = 0\n",
        "#contact\n",
        "train.loc[(train.contact == \"telephone\"),\"contact\"] = 2\n",
        "train.loc[(train.contact == \"cellular\") ,\"contact\"] = 1\n",
        "train.loc[(train.contact == \"unknown\") ,\"contact\"] = 0"
      ],
      "metadata": {
        "id": "X0opDLghM_k2"
      },
      "execution_count": 10,
      "outputs": []
    },
    {
      "cell_type": "code",
      "source": [
        "#poutcome\n",
        "train = pd.concat((train , pd.DataFrame(ohe.fit_transform(train[\"poutcome\"].to_frame()),columns = \"poutcome_\" + np.sort(train[\"poutcome\"].unique()))),axis = 1)\n",
        "train.drop(columns = [\"poutcome\"],inplace = True)\n",
        "#subscribed\n",
        "train.loc[(train.subscribed == \"yes\"),\"subscribed\"] = 1 \n",
        "train.loc[(train.subscribed == \"no\") ,\"subscribed\"] = 0"
      ],
      "metadata": {
        "id": "tdBUEcHnND3K"
      },
      "execution_count": 11,
      "outputs": []
    },
    {
      "cell_type": "markdown",
      "source": [
        "transformation en valeur **numérique**"
      ],
      "metadata": {
        "id": "cuYa3WOx_8Hm"
      }
    },
    {
      "cell_type": "code",
      "source": [
        "#vérification\n",
        "train.info()"
      ],
      "metadata": {
        "colab": {
          "base_uri": "https://localhost:8080/"
        },
        "id": "OHa343KENHsS",
        "outputId": "d823e511-9f55-408b-885d-46f4393261a2"
      },
      "execution_count": 12,
      "outputs": [
        {
          "output_type": "stream",
          "name": "stdout",
          "text": [
            "<class 'pandas.core.frame.DataFrame'>\n",
            "RangeIndex: 31647 entries, 0 to 31646\n",
            "Data columns (total 30 columns):\n",
            " #   Column             Non-Null Count  Dtype  \n",
            "---  ------             --------------  -----  \n",
            " 0   age                31647 non-null  int64  \n",
            " 1   education          31647 non-null  object \n",
            " 2   default            31647 non-null  object \n",
            " 3   balance            31647 non-null  int64  \n",
            " 4   housing            31647 non-null  object \n",
            " 5   loan               31647 non-null  object \n",
            " 6   contact            31647 non-null  object \n",
            " 7   campaign           31647 non-null  int64  \n",
            " 8   pdays              31647 non-null  int64  \n",
            " 9   previous           31647 non-null  int64  \n",
            " 10  subscribed         31647 non-null  object \n",
            " 11  job_admin.         31647 non-null  float64\n",
            " 12  job_blue-collar    31647 non-null  float64\n",
            " 13  job_entrepreneur   31647 non-null  float64\n",
            " 14  job_housemaid      31647 non-null  float64\n",
            " 15  job_management     31647 non-null  float64\n",
            " 16  job_retired        31647 non-null  float64\n",
            " 17  job_self-employed  31647 non-null  float64\n",
            " 18  job_services       31647 non-null  float64\n",
            " 19  job_student        31647 non-null  float64\n",
            " 20  job_technician     31647 non-null  float64\n",
            " 21  job_unemployed     31647 non-null  float64\n",
            " 22  job_unknown        31647 non-null  float64\n",
            " 23  marital_divorced   31647 non-null  float64\n",
            " 24  marital_married    31647 non-null  float64\n",
            " 25  marital_single     31647 non-null  float64\n",
            " 26  poutcome_failure   31647 non-null  float64\n",
            " 27  poutcome_other     31647 non-null  float64\n",
            " 28  poutcome_success   31647 non-null  float64\n",
            " 29  poutcome_unknown   31647 non-null  float64\n",
            "dtypes: float64(19), int64(5), object(6)\n",
            "memory usage: 7.2+ MB\n"
          ]
        }
      ]
    },
    {
      "cell_type": "code",
      "source": [
        "# transformation\n",
        "train.education = train.education.astype(int)\n",
        "train.default = train.default.astype(int)\n",
        "train.housing = train.housing.astype(int)\n",
        "train.loan = train.loan.astype(int)\n",
        "train.contact = train.contact.astype(int)\n",
        "train.subscribed = train.subscribed.astype(int)"
      ],
      "metadata": {
        "id": "JydrEUxANLZx"
      },
      "execution_count": 15,
      "outputs": []
    },
    {
      "cell_type": "code",
      "source": [
        "train.info()"
      ],
      "metadata": {
        "colab": {
          "base_uri": "https://localhost:8080/"
        },
        "id": "-SbTvAukB7P4",
        "outputId": "2db05816-8c0e-4174-e1a8-ba5e5ba1fc65"
      },
      "execution_count": 16,
      "outputs": [
        {
          "output_type": "stream",
          "name": "stdout",
          "text": [
            "<class 'pandas.core.frame.DataFrame'>\n",
            "RangeIndex: 31647 entries, 0 to 31646\n",
            "Data columns (total 30 columns):\n",
            " #   Column             Non-Null Count  Dtype  \n",
            "---  ------             --------------  -----  \n",
            " 0   age                31647 non-null  int64  \n",
            " 1   education          31647 non-null  int64  \n",
            " 2   default            31647 non-null  int64  \n",
            " 3   balance            31647 non-null  int64  \n",
            " 4   housing            31647 non-null  int64  \n",
            " 5   loan               31647 non-null  int64  \n",
            " 6   contact            31647 non-null  int64  \n",
            " 7   campaign           31647 non-null  int64  \n",
            " 8   pdays              31647 non-null  int64  \n",
            " 9   previous           31647 non-null  int64  \n",
            " 10  subscribed         31647 non-null  int64  \n",
            " 11  job_admin.         31647 non-null  float64\n",
            " 12  job_blue-collar    31647 non-null  float64\n",
            " 13  job_entrepreneur   31647 non-null  float64\n",
            " 14  job_housemaid      31647 non-null  float64\n",
            " 15  job_management     31647 non-null  float64\n",
            " 16  job_retired        31647 non-null  float64\n",
            " 17  job_self-employed  31647 non-null  float64\n",
            " 18  job_services       31647 non-null  float64\n",
            " 19  job_student        31647 non-null  float64\n",
            " 20  job_technician     31647 non-null  float64\n",
            " 21  job_unemployed     31647 non-null  float64\n",
            " 22  job_unknown        31647 non-null  float64\n",
            " 23  marital_divorced   31647 non-null  float64\n",
            " 24  marital_married    31647 non-null  float64\n",
            " 25  marital_single     31647 non-null  float64\n",
            " 26  poutcome_failure   31647 non-null  float64\n",
            " 27  poutcome_other     31647 non-null  float64\n",
            " 28  poutcome_success   31647 non-null  float64\n",
            " 29  poutcome_unknown   31647 non-null  float64\n",
            "dtypes: float64(19), int64(11)\n",
            "memory usage: 7.2 MB\n"
          ]
        }
      ]
    },
    {
      "cell_type": "markdown",
      "source": [
        "**partage du Data_set**"
      ],
      "metadata": {
        "id": "xPOyg_6EACWX"
      }
    },
    {
      "cell_type": "code",
      "source": [
        "sm = SMOTE()\n",
        "y = train[\"subscribed\"]\n",
        "X = train.drop(columns=[\"subscribed\"])\n",
        "y.value_counts()"
      ],
      "metadata": {
        "colab": {
          "base_uri": "https://localhost:8080/"
        },
        "id": "L2lz9Q_8NuLW",
        "outputId": "f6c71f52-6ac6-4386-e632-978ce27842e6"
      },
      "execution_count": 17,
      "outputs": [
        {
          "output_type": "execute_result",
          "data": {
            "text/plain": [
              "0    27932\n",
              "1     3715\n",
              "Name: subscribed, dtype: int64"
            ]
          },
          "metadata": {},
          "execution_count": 17
        }
      ]
    },
    {
      "cell_type": "code",
      "source": [
        "X, y = sm.fit_resample(X, y)\n",
        "X_train , X_test , y_train , y_test = train_test_split(X,y, test_size = 0.2,random_state = 10)\n",
        "y.value_counts()"
      ],
      "metadata": {
        "colab": {
          "base_uri": "https://localhost:8080/"
        },
        "id": "IGcC6tkoO6Wq",
        "outputId": "c1a298c1-4199-40f3-fa66-d43d37687055"
      },
      "execution_count": 18,
      "outputs": [
        {
          "output_type": "execute_result",
          "data": {
            "text/plain": [
              "0    27932\n",
              "1    27932\n",
              "Name: subscribed, dtype: int64"
            ]
          },
          "metadata": {},
          "execution_count": 18
        }
      ]
    },
    {
      "cell_type": "code",
      "source": [
        "X.info()"
      ],
      "metadata": {
        "colab": {
          "base_uri": "https://localhost:8080/"
        },
        "id": "5VX6In_YPg92",
        "outputId": "82cd0b21-e794-41c4-aabb-8f74166809b4"
      },
      "execution_count": 19,
      "outputs": [
        {
          "output_type": "stream",
          "name": "stdout",
          "text": [
            "<class 'pandas.core.frame.DataFrame'>\n",
            "RangeIndex: 55864 entries, 0 to 55863\n",
            "Data columns (total 29 columns):\n",
            " #   Column             Non-Null Count  Dtype  \n",
            "---  ------             --------------  -----  \n",
            " 0   age                55864 non-null  int64  \n",
            " 1   education          55864 non-null  int64  \n",
            " 2   default            55864 non-null  int64  \n",
            " 3   balance            55864 non-null  int64  \n",
            " 4   housing            55864 non-null  int64  \n",
            " 5   loan               55864 non-null  int64  \n",
            " 6   contact            55864 non-null  int64  \n",
            " 7   campaign           55864 non-null  int64  \n",
            " 8   pdays              55864 non-null  int64  \n",
            " 9   previous           55864 non-null  int64  \n",
            " 10  job_admin.         55864 non-null  float64\n",
            " 11  job_blue-collar    55864 non-null  float64\n",
            " 12  job_entrepreneur   55864 non-null  float64\n",
            " 13  job_housemaid      55864 non-null  float64\n",
            " 14  job_management     55864 non-null  float64\n",
            " 15  job_retired        55864 non-null  float64\n",
            " 16  job_self-employed  55864 non-null  float64\n",
            " 17  job_services       55864 non-null  float64\n",
            " 18  job_student        55864 non-null  float64\n",
            " 19  job_technician     55864 non-null  float64\n",
            " 20  job_unemployed     55864 non-null  float64\n",
            " 21  job_unknown        55864 non-null  float64\n",
            " 22  marital_divorced   55864 non-null  float64\n",
            " 23  marital_married    55864 non-null  float64\n",
            " 24  marital_single     55864 non-null  float64\n",
            " 25  poutcome_failure   55864 non-null  float64\n",
            " 26  poutcome_other     55864 non-null  float64\n",
            " 27  poutcome_success   55864 non-null  float64\n",
            " 28  poutcome_unknown   55864 non-null  float64\n",
            "dtypes: float64(19), int64(10)\n",
            "memory usage: 12.4 MB\n"
          ]
        }
      ]
    },
    {
      "cell_type": "markdown",
      "source": [
        "**Entrainement**"
      ],
      "metadata": {
        "id": "1MjQKx2DAXti"
      }
    },
    {
      "cell_type": "markdown",
      "source": [
        "1-KNN : KNeighborsClassifier"
      ],
      "metadata": {
        "id": "0M7H7iNrAfBA"
      }
    },
    {
      "cell_type": "code",
      "source": [
        "knn = KNeighborsClassifier()\n",
        "knn.fit(X_train, y_train)\n",
        "y_pred_knn = knn.predict(X_test)\n",
        "matrice_f_knn = confusion_matrix(y_test, y_pred_knn)\n",
        "performance_knn = accuracy_score(y_test, y_pred_knn)"
      ],
      "metadata": {
        "id": "N1cra-DFPn0s"
      },
      "execution_count": 20,
      "outputs": []
    },
    {
      "cell_type": "markdown",
      "source": [
        "2-reggression logistique"
      ],
      "metadata": {
        "id": "m1PPxLFuAiBM"
      }
    },
    {
      "cell_type": "code",
      "source": [
        "lr = LogisticRegression()\n",
        "lr.fit(X_train,y_train)\n",
        "y_pred_lr = lr.predict(X_test)\n",
        "matrice_f_lr = confusion_matrix(y_test, y_pred_lr)\n",
        "performance_lr = accuracy_score(y_test, y_pred_lr)\n"
      ],
      "metadata": {
        "colab": {
          "base_uri": "https://localhost:8080/"
        },
        "id": "xRbNV4h3PvLZ",
        "outputId": "495aa5f7-dd5b-442c-9d73-341099e4a73c"
      },
      "execution_count": 21,
      "outputs": [
        {
          "output_type": "stream",
          "name": "stderr",
          "text": [
            "/usr/local/lib/python3.8/dist-packages/sklearn/linear_model/_logistic.py:814: ConvergenceWarning: lbfgs failed to converge (status=1):\n",
            "STOP: TOTAL NO. of ITERATIONS REACHED LIMIT.\n",
            "\n",
            "Increase the number of iterations (max_iter) or scale the data as shown in:\n",
            "    https://scikit-learn.org/stable/modules/preprocessing.html\n",
            "Please also refer to the documentation for alternative solver options:\n",
            "    https://scikit-learn.org/stable/modules/linear_model.html#logistic-regression\n",
            "  n_iter_i = _check_optimize_result(\n"
          ]
        }
      ]
    },
    {
      "cell_type": "markdown",
      "source": [
        "3-arbre de décision"
      ],
      "metadata": {
        "id": "xujgLOIJAqoE"
      }
    },
    {
      "cell_type": "code",
      "source": [
        "dtc = DecisionTreeClassifier(max_depth=3)\n",
        "dtc.fit(X_train, y_train)\n",
        "y_pred_dtc = dtc.predict(X_test)\n",
        "matrice_f_dtc = confusion_matrix(y_test, y_pred_dtc)\n",
        "performance_dtc = accuracy_score(y_test, y_pred_dtc)"
      ],
      "metadata": {
        "id": "GDh3qqnfPzAR"
      },
      "execution_count": 22,
      "outputs": []
    },
    {
      "cell_type": "markdown",
      "source": [
        "4-classificateur random forest"
      ],
      "metadata": {
        "id": "eoQkZvwzAwD1"
      }
    },
    {
      "cell_type": "code",
      "source": [
        "rf = RandomForestClassifier()\n",
        "rf.fit(X_train, y_train)\n",
        "y_pred_rf = rf.predict(X_test)\n",
        "matrice_f_rf = confusion_matrix(y_test,y_pred_rf)\n",
        "performance_rf = accuracy_score(y_test,y_pred_rf)"
      ],
      "metadata": {
        "id": "NFUugweXP4AX"
      },
      "execution_count": 23,
      "outputs": []
    },
    {
      "cell_type": "markdown",
      "source": [
        "**Comparaison des performances**"
      ],
      "metadata": {
        "id": "vOPNMQ4IA0G3"
      }
    },
    {
      "cell_type": "code",
      "source": [
        "#1-KNN : KNeighborsClassifier (K-Nearest Neighbor)\n",
        "matrice_f_knn,performance_knn,precision_score(y_test,y_pred_knn),recall_score(y_test,y_pred_knn)"
      ],
      "metadata": {
        "colab": {
          "base_uri": "https://localhost:8080/"
        },
        "id": "-Py2ho_cP8BZ",
        "outputId": "02687e3b-902f-4767-b534-eec95b9f8738"
      },
      "execution_count": 24,
      "outputs": [
        {
          "data": {
            "text/plain": [
              "(array([[3752, 1853],\n",
              "        [ 483, 5085]]),\n",
              " 0.7909245502550792,\n",
              " 0.7329201498991064,\n",
              " 0.9132543103448276)"
            ]
          },
          "execution_count": 24,
          "metadata": {},
          "output_type": "execute_result"
        }
      ]
    },
    {
      "cell_type": "code",
      "source": [
        "#2-reggression logistique\n",
        "matrice_f_lr,performance_lr,precision_score(y_test,y_pred_lr),recall_score(y_test,y_pred_lr)"
      ],
      "metadata": {
        "colab": {
          "base_uri": "https://localhost:8080/"
        },
        "id": "wUARpVG2QE0Z",
        "outputId": "15634c1d-4794-4d90-eec2-ca57599017f2"
      },
      "execution_count": 25,
      "outputs": [
        {
          "output_type": "execute_result",
          "data": {
            "text/plain": [
              "(array([[3843, 1762],\n",
              "        [1237, 4331]]),\n",
              " 0.731585071153674,\n",
              " 0.7108156901362219,\n",
              " 0.7778376436781609)"
            ]
          },
          "metadata": {},
          "execution_count": 25
        }
      ]
    },
    {
      "cell_type": "code",
      "source": [
        "#3-arbre de décision\n",
        "matrice_f_dtc,performance_dtc,precision_score(y_test,y_pred_dtc),recall_score(y_test,y_pred_dtc)"
      ],
      "metadata": {
        "colab": {
          "base_uri": "https://localhost:8080/"
        },
        "id": "eU8k8TggQJJC",
        "outputId": "4bd43443-cad7-4e03-c62a-4ff3f27d5d4f"
      },
      "execution_count": 26,
      "outputs": [
        {
          "output_type": "execute_result",
          "data": {
            "text/plain": [
              "(array([[4632,  973],\n",
              "        [1919, 3649]]),\n",
              " 0.7411617291685313,\n",
              " 0.7894850713976633,\n",
              " 0.6553520114942529)"
            ]
          },
          "metadata": {},
          "execution_count": 26
        }
      ]
    },
    {
      "cell_type": "code",
      "source": [
        "#4-classificateur random forest\n",
        "matrice_f_rf,performance_rf,precision_score(y_test,y_pred_rf),recall_score(y_test,y_pred_rf)"
      ],
      "metadata": {
        "colab": {
          "base_uri": "https://localhost:8080/"
        },
        "id": "f0wskbLUQRRb",
        "outputId": "cd462822-22df-4bb0-d659-6d977ed6a901"
      },
      "execution_count": 27,
      "outputs": [
        {
          "output_type": "execute_result",
          "data": {
            "text/plain": [
              "(array([[5363,  242],\n",
              "        [ 576, 4992]]),\n",
              " 0.926787791998568,\n",
              " 0.953763851738632,\n",
              " 0.896551724137931)"
            ]
          },
          "metadata": {},
          "execution_count": 27
        }
      ]
    },
    {
      "cell_type": "markdown",
      "source": [
        "**la fonction de prédiction**"
      ],
      "metadata": {
        "id": "dma8tOBPA9wx"
      }
    },
    {
      "cell_type": "code",
      "source": [
        "def va_investir(model,nom='il',age=56,education=0,default=0,balance=1933,housing=0,loan=0,contact=2,campaign=2,pdays=-1,previous=0,job_admin=1,job_bluecollar=0,job_entrepreneur=0,job_housemaid=0,job_management=0,job_retired=0,job_selfemployed=0,job_services=0,job_student=0,job_technician=0,job_unemployed=0,job_unknown=0,marital_divorced=1,marital_married=0,marital_single=0,poutcome_failure=0,poutcome_other=0,poutcome_success=0,poutcome_unknown=1):\n",
        "    x=np.array([age,education,default,balance,housing,loan,contact,campaign,pdays,previous,job_admin,job_bluecollar,job_entrepreneur,job_housemaid,job_management,job_retired,job_selfemployed,job_services,job_student,job_technician,job_unemployed,job_unknown,marital_divorced,marital_married,marital_single,poutcome_failure,poutcome_other,poutcome_success,poutcome_unknown]).reshape(1,29)\n",
        "    predicted=model.predict(x)\n",
        "    proba_oui=model.predict_proba(x)[0][1]*100\n",
        "    proba_non=model.predict_proba(x)[0][0]*100\n",
        "    if predicted[0]==1:\n",
        "        print(\"il y a\",proba_oui,\"% de chance que\",nom,\"souhaite investir\")\n",
        "    else:print(\"il y a\",proba_non,\"% de chance que\",nom,\"ne souhaite pas investir\")"
      ],
      "metadata": {
        "id": "auK0mwaMQSY0"
      },
      "execution_count": 28,
      "outputs": []
    },
    {
      "cell_type": "code",
      "source": [
        "X.info()"
      ],
      "metadata": {
        "colab": {
          "base_uri": "https://localhost:8080/"
        },
        "id": "bQELfzjLQZAx",
        "outputId": "1e9517a0-1685-43ac-9dae-b447dba85a65"
      },
      "execution_count": 29,
      "outputs": [
        {
          "output_type": "stream",
          "name": "stdout",
          "text": [
            "<class 'pandas.core.frame.DataFrame'>\n",
            "RangeIndex: 55864 entries, 0 to 55863\n",
            "Data columns (total 29 columns):\n",
            " #   Column             Non-Null Count  Dtype  \n",
            "---  ------             --------------  -----  \n",
            " 0   age                55864 non-null  int64  \n",
            " 1   education          55864 non-null  int64  \n",
            " 2   default            55864 non-null  int64  \n",
            " 3   balance            55864 non-null  int64  \n",
            " 4   housing            55864 non-null  int64  \n",
            " 5   loan               55864 non-null  int64  \n",
            " 6   contact            55864 non-null  int64  \n",
            " 7   campaign           55864 non-null  int64  \n",
            " 8   pdays              55864 non-null  int64  \n",
            " 9   previous           55864 non-null  int64  \n",
            " 10  job_admin.         55864 non-null  float64\n",
            " 11  job_blue-collar    55864 non-null  float64\n",
            " 12  job_entrepreneur   55864 non-null  float64\n",
            " 13  job_housemaid      55864 non-null  float64\n",
            " 14  job_management     55864 non-null  float64\n",
            " 15  job_retired        55864 non-null  float64\n",
            " 16  job_self-employed  55864 non-null  float64\n",
            " 17  job_services       55864 non-null  float64\n",
            " 18  job_student        55864 non-null  float64\n",
            " 19  job_technician     55864 non-null  float64\n",
            " 20  job_unemployed     55864 non-null  float64\n",
            " 21  job_unknown        55864 non-null  float64\n",
            " 22  marital_divorced   55864 non-null  float64\n",
            " 23  marital_married    55864 non-null  float64\n",
            " 24  marital_single     55864 non-null  float64\n",
            " 25  poutcome_failure   55864 non-null  float64\n",
            " 26  poutcome_other     55864 non-null  float64\n",
            " 27  poutcome_success   55864 non-null  float64\n",
            " 28  poutcome_unknown   55864 non-null  float64\n",
            "dtypes: float64(19), int64(10)\n",
            "memory usage: 12.4 MB\n"
          ]
        }
      ]
    },
    {
      "cell_type": "markdown",
      "source": [],
      "metadata": {
        "id": "Y0jhB59J2RKZ"
      }
    },
    {
      "cell_type": "code",
      "source": [
        "#va_investir(rf,'Joh',0 ,1,2, 3  ,4,5,6,7, 8,9,10,11,12,13,14,15,16,17,18,19,20,21,22,23,24,25,26,27,28)\n",
        "va_investir(rf,'John',20,1,0,1933,0,0,2,2,-1,0, 1, 0, 0, 0, 0, 0, 0, 0, 0, 0, 0, 0, 0, 1, 0, 0, 0, 0, 1)"
      ],
      "metadata": {
        "colab": {
          "base_uri": "https://localhost:8080/"
        },
        "id": "xSout7s7QarI",
        "outputId": "a4bdd727-d4f5-4228-a8b9-0ec8613e7437"
      },
      "execution_count": 30,
      "outputs": [
        {
          "output_type": "stream",
          "name": "stdout",
          "text": [
            "il y a 89.0 % de chance que John ne souhaite pas investir\n"
          ]
        },
        {
          "output_type": "stream",
          "name": "stderr",
          "text": [
            "/usr/local/lib/python3.8/dist-packages/sklearn/base.py:450: UserWarning: X does not have valid feature names, but RandomForestClassifier was fitted with feature names\n",
            "  warnings.warn(\n",
            "/usr/local/lib/python3.8/dist-packages/sklearn/base.py:450: UserWarning: X does not have valid feature names, but RandomForestClassifier was fitted with feature names\n",
            "  warnings.warn(\n",
            "/usr/local/lib/python3.8/dist-packages/sklearn/base.py:450: UserWarning: X does not have valid feature names, but RandomForestClassifier was fitted with feature names\n",
            "  warnings.warn(\n"
          ]
        }
      ]
    }
  ]
}